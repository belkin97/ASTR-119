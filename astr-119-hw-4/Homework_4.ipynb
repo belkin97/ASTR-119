{
 "cells": [
  {
   "cell_type": "markdown",
   "id": "875de691",
   "metadata": {},
   "source": [
    "# Using Newton-Raphson Root Finding - HW 4"
   ]
  },
  {
   "cell_type": "code",
   "execution_count": null,
   "id": "f042cdd6",
   "metadata": {},
   "outputs": [],
   "source": [
    "%matplotlib inline\n",
    "import numpy as np\n",
    "import matplotlib.pyplot as plt"
   ]
  },
  {
   "cell_type": "code",
   "execution_count": null,
   "id": "b896f6a3",
   "metadata": {},
   "outputs": [],
   "source": [
    "def function_for_roots(x):\n",
    "    a = 1.01\n",
    "    b = -3.04\n",
    "    c = 2.07\n",
    "    return a*x**2 + b*x + c"
   ]
  },
  {
   "cell_type": "code",
   "execution_count": null,
   "id": "d5bf7b3d",
   "metadata": {},
   "outputs": [],
   "source": [
    "def derivative_for_root(x):\n",
    "    a = 1.01\n",
    "    b = -3.04\n",
    "    return 2*a*x + b"
   ]
  },
  {
   "cell_type": "code",
   "execution_count": null,
   "id": "6f03c965",
   "metadata": {},
   "outputs": [],
   "source": [
    "def check_initial_values(f, x_mini, x_maxi, tol):\n",
    "    \n",
    "    y_mini = f(x_mini)\n",
    "    y_maxi = f(x_maxi)\n",
    "    \n",
    "    if(y_mini*y_maxi>=0.0):\n",
    "        print(\"No zero crossing found in the range = \",x_mini,x_maxi)\n",
    "        s = \"func(%f) = %f, func(%f) = %f\" % (x_mini,y_mini,x_maxi,y_maxi)\n",
    "        print(s)\n",
    "        return 0\n",
    "    \n",
    "    if(np.fabs(y_mini)<tol):\n",
    "        return 1\n",
    "\n",
    "    if(np.fabs(y_maxi)<tol): \n",
    "        return 2\n",
    "    \n",
    "    return 3"
   ]
  },
  {
   "cell_type": "code",
   "execution_count": null,
   "id": "7e5b72cb",
   "metadata": {},
   "outputs": [],
   "source": [
    "def bisection_root_finding(f, x_min_start, x_max_start, tol):\n",
    "    x_mini = x_min_start\n",
    "    x_maxi = x_max_start\n",
    "    x_midd = 0.0\n",
    "    \n",
    "    y_mini = f(x_min_start)\n",
    "    y_maxi = f(x_max_start)\n",
    "    y_midd = 0.0\n",
    "    \n",
    "    imax = 20\n",
    "    i = 0\n",
    "    \n",
    "    flag = check_initial_values(f, x_mini, x_maxi, tol)\n",
    "    if(flag==0):\n",
    "        print(\"Error in BRF().\")\n",
    "        raise ValueError('Initial values invalid',x_mini,x_maxi)\n",
    "    elif(flag==1):\n",
    "        return x_min\n",
    "    elif(flag==2):\n",
    "        return x_max\n",
    "    \n",
    "    flag = 1\n",
    "    while(flag):\n",
    "        x_midd = 0.5*(x_mini+x_maxi)\n",
    "        y_midd = f(x_mini)\n",
    "        \n",
    "        if(np.fabs(y_midd)<tol):\n",
    "            flag = 0\n",
    "        else:\n",
    "            if(f(x_mini)*f(x_midd)>0):\n",
    "                x_mini = x_midd\n",
    "            else:\n",
    "                x_maxi = x_midd\n",
    "        print(x_mini,f(x_mini),x_maxi,f(x_maxi))\n",
    "        \n",
    "        i += 1\n",
    "        \n",
    "        print(x_mini,f(x_mini),x_maxi,f(x_maxi))\n",
    "        \n",
    "        if(i>=imax):\n",
    "            print(\"Exceeded max iterations = \", i)\n",
    "            s = \"Min bracket f(%f) = %f\" % (x_mini,f(x_mini))\n",
    "            print(s)\n",
    "            s = \"Max bracket f(%f) = %f\" % (x_maxi,f(x_maxi))\n",
    "            print(s)\n",
    "            s = \"Mid bracket f(%f) = %f\" % (x_midd,f(x_midd))\n",
    "            print(s)\n",
    "            raise StopIteration('Stopping iterations after ',i)\n",
    "    \n",
    "    #we are done!\n",
    "    return x_midd"
   ]
  },
  {
   "cell_type": "code",
   "execution_count": null,
   "id": "45a375a9",
   "metadata": {},
   "outputs": [],
   "source": [
    "x_mini = 0.0\n",
    "x_maxi = 1.5\n",
    "tolerance = 1.0e-6\n",
    "\n",
    "print(x_mini,function_for_roots(x_mini))\n",
    "print(x_maxi,function_for_roots(x_maxi))\n",
    "\n",
    "x_root = bisection_root_finding(function_for_roots,x_mini,x_maxi,tolerance)\n",
    "y_root = function_for_roots(x_root)\n",
    "\n",
    "s = \"Root found with y(%f) = %f\" % (x_root,y_root)\n",
    "print(s)\n",
    "\n",
    "x_mini_2 = 1.5\n",
    "x_maxi_2 = 3.0\n",
    "tolerance = 1.0e-6\n",
    "\n",
    "print(x_mini_2,function_for_roots(x_mini_2))\n",
    "print(x_maxi_2,function_for_roots(x_maxi_2))\n",
    "\n",
    "x_root_2 = bisection_root_finding(function_for_roots,x_mini_2,x_maxi_2,tolerance)\n",
    "y_root_2 = function_for_roots(x_root_2)\n",
    "\n",
    "s = \"Root found with y(%f) = %f\" % (x_root_2,y_root_2)\n",
    "print(s)"
   ]
  },
  {
   "cell_type": "markdown",
   "id": "2e29fd87",
   "metadata": {},
   "source": [
    "### By changing the imax value, it's determined that the minimum number of iterations necessary to find out roots is 20 (imax = 20); Anything below that will result in our iteration error. "
   ]
  },
  {
   "cell_type": "code",
   "execution_count": null,
   "id": "72000b14",
   "metadata": {},
   "outputs": [],
   "source": [
    "x = np.linspace(0,3,1000)\n",
    "y = [function_for_roots(i) for i in x]\n",
    "f = 0*x\n",
    "plt.plot(x,y)\n",
    "plt.plot(f)\n",
    "plt.plot(0.0,0,'mo',1.5,0,'yo',3.0,0,'o')\n",
    "plt.plot(x_root, y_root, 'ro')\n",
    "plt.plot(x_root_2, y_root_2, 'bo')\n",
    "plt.xlim([0,3])\n",
    "plt.ylim([-0.5,2.1])\n",
    "plt.xlabel(r'$x$')\n",
    "plt.ylabel(r'$y(x)$')\n",
    "plt.axhline(y=0.0, color='w', linestyle='--')\n",
    "plt.show()"
   ]
  },
  {
   "cell_type": "code",
   "execution_count": null,
   "id": "d11a7c27",
   "metadata": {},
   "outputs": [],
   "source": []
  },
  {
   "cell_type": "code",
   "execution_count": null,
   "id": "59bcbb17",
   "metadata": {},
   "outputs": [],
   "source": []
  }
 ],
 "metadata": {
  "kernelspec": {
   "display_name": "Python 3 (ipykernel)",
   "language": "python",
   "name": "python3"
  },
  "language_info": {
   "codemirror_mode": {
    "name": "ipython",
    "version": 3
   },
   "file_extension": ".py",
   "mimetype": "text/x-python",
   "name": "python",
   "nbconvert_exporter": "python",
   "pygments_lexer": "ipython3",
   "version": "3.9.7"
  }
 },
 "nbformat": 4,
 "nbformat_minor": 5
}
