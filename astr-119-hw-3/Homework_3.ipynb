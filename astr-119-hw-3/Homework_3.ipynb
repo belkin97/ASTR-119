{
 "cells": [
  {
   "cell_type": "code",
   "execution_count": null,
   "id": "ed158d27",
   "metadata": {},
   "outputs": [],
   "source": [
    "%matplotlib inline\n",
    "import numpy as np\n",
    "import matplotlib.pyplot as plt"
   ]
  },
  {
   "cell_type": "code",
   "execution_count": null,
   "id": "1c520220",
   "metadata": {},
   "outputs": [],
   "source": [
    "x = np.linspace(0,2*np.pi,1000)\n",
    "y = np.linspace(-1,10,12)\n",
    "print(\"First element of x =\",x[0])\n",
    "print(\"Last element of x =\",x[1])"
   ]
  },
  {
   "cell_type": "code",
   "execution_count": null,
   "id": "b957cdeb",
   "metadata": {},
   "outputs": [],
   "source": [
    "print(x)\n",
    "print(y)"
   ]
  },
  {
   "cell_type": "code",
   "execution_count": null,
   "id": "a3a561af",
   "metadata": {},
   "outputs": [],
   "source": [
    "z = 5.5*np.cos(2*x) + 5.5\n",
    "w = 0.02*np.exp(x)\n",
    "v = 0.25*x**2 + 0.1*np.sin(10*x)"
   ]
  },
  {
   "cell_type": "code",
   "execution_count": null,
   "id": "b7f9a767",
   "metadata": {},
   "outputs": [],
   "source": [
    "f, axarr = plt.subplots(1,3)\n",
    "\n",
    "axarr[0].plot(x, z)\n",
    "axarr[0].set_xlabel('x')\n",
    "axarr[0].set_ylabel('y')\n",
    "axarr[0].set_title(r'z')\n",
    "\n",
    "axarr[1].plot(x,w)\n",
    "axarr[1].set_xlabel('x')\n",
    "axarr[1].set_ylabel('y')\n",
    "axarr[1].set_title(r'w')\n",
    "\n",
    "axarr[2].plot(x,v)\n",
    "axarr[2].set_xlabel('x')\n",
    "axarr[2].set_ylabel('y')\n",
    "axarr[2].set_title(r'v')"
   ]
  },
  {
   "cell_type": "code",
   "execution_count": null,
   "id": "6aea9877",
   "metadata": {},
   "outputs": [],
   "source": [
    "fig = plt.figure(figsize=(10,10))\n",
    "\n",
    "plt.plot(x, z, label=r'z') \n",
    "plt.plot(x, w, label=r'w') \n",
    "plt.plot(x, v, label=r'v') \n",
    "\n",
    "plt.xlabel(r'$Time in ASTR 119$')\n",
    "plt.ylabel(r'$Measures of Awesomeness$')\n",
    "plt.xlim([0,2*np.pi,])\n",
    "plt.ylim([-1, 10])\n",
    "plt.legend(loc=2,framealpha=0.9,frameon=True) "
   ]
  },
  {
   "cell_type": "code",
   "execution_count": null,
   "id": "df43561a",
   "metadata": {},
   "outputs": [],
   "source": []
  }
 ],
 "metadata": {
  "kernelspec": {
   "display_name": "Python 3 (ipykernel)",
   "language": "python",
   "name": "python3"
  },
  "language_info": {
   "codemirror_mode": {
    "name": "ipython",
    "version": 3
   },
   "file_extension": ".py",
   "mimetype": "text/x-python",
   "name": "python",
   "nbconvert_exporter": "python",
   "pygments_lexer": "ipython3",
   "version": "3.9.7"
  }
 },
 "nbformat": 4,
 "nbformat_minor": 5
}
